{
 "cells": [
  {
   "cell_type": "code",
   "execution_count": 19,
   "id": "57c0fdcf",
   "metadata": {},
   "outputs": [
    {
     "data": {
      "text/plain": [
       "RunnableBinding(bound=ChatGoogleGenerativeAI(model='models/gemini-2.5-flash', google_api_key=SecretStr('**********'), client=<google.ai.generativelanguage_v1beta.services.generative_service.client.GenerativeServiceClient object at 0x0000026333EA6BE0>, default_metadata=(), model_kwargs={}), kwargs={'tools': [{'type': 'function', 'function': {'name': 'Stocks', 'description': 'information about the Stocks', 'parameters': {'properties': {'name': {'description': 'name of the stock as listed in nse ', 'type': 'string'}, 'marketCap': {'description': 'market capitalzation of the stock', 'type': 'integer'}, 'stopckPrice': {'description': 'current stock price of stock', 'type': 'integer'}, 'revenue': {'description': 'current fiancial revenue of the  stock in rupees(crorers)', 'type': 'integer'}}, 'required': ['name', 'marketCap', 'stopckPrice', 'revenue'], 'type': 'object'}}}], 'ls_structured_output_format': {'kwargs': {'method': 'function_calling'}, 'schema': {'type': 'function', 'function': {'name': 'Stocks', 'description': 'information about the Stocks', 'parameters': {'properties': {'name': {'description': 'name of the stock as listed in nse ', 'type': 'string'}, 'marketCap': {'description': 'market capitalzation of the stock', 'type': 'integer'}, 'stopckPrice': {'description': 'current stock price of stock', 'type': 'integer'}, 'revenue': {'description': 'current fiancial revenue of the  stock in rupees(crorers)', 'type': 'integer'}}, 'required': ['name', 'marketCap', 'stopckPrice', 'revenue'], 'type': 'object'}}}}, 'tool_choice': 'Stocks'}, config={}, config_factories=[])\n",
       "| PydanticToolsParser(first_tool_only=True, tools=[<class '__main__.Stocks'>])"
      ]
     },
     "execution_count": 19,
     "metadata": {},
     "output_type": "execute_result"
    }
   ],
   "source": [
    "from pydantic import BaseModel, Field\n",
    "from langchain_google_genai import ChatGoogleGenerativeAI,GoogleGenerativeAI\n",
    "\n",
    "llm =ChatGoogleGenerativeAI(model = \"gemini-2.5-flash\")\n",
    "\n",
    "class Country(BaseModel):\n",
    "    \"\"\" information about the  country\"\"\"\n",
    "    name:str = Field(description=\"name of the country\")\n",
    "    language:str = Field(description=\"language of the country\")\n",
    "    capital:str = Field(description=\"capital of the country\")\n",
    "    population:int = Field(description=\"population of the country\")\n",
    "    president:str = Field(description=\"present president of the counrty\") \n",
    "\n",
    "class Stocks(BaseModel):\n",
    "    \"\"\"information about the Stocks\"\"\"\n",
    "    name:str = Field(description=\"name of the stock as listed in nse \")\n",
    "    marketCap:int = Field(description=\"market capitalzation of the stock\")\n",
    "    stopckPrice:int = Field(description=\"current stock price of stock\")\n",
    "    revenue:int = Field(description=\"current fiancial revenue of the  stock in rupees(crorers)\")\n",
    "\n",
    "\n",
    "# sttructured_llm = llm.with_structured_output(Country)\n",
    "sttructured_llm = llm.with_structured_output(Stocks)\n",
    "sttructured_llm\n"
   ]
  },
  {
   "cell_type": "code",
   "execution_count": 21,
   "id": "031c810e",
   "metadata": {},
   "outputs": [
    {
     "data": {
      "text/plain": [
       "Stocks(name='HDFC Bank', marketCap=1200000, stopckPrice=1500, revenue=200000)"
      ]
     },
     "execution_count": 21,
     "metadata": {},
     "output_type": "execute_result"
    }
   ],
   "source": [
    "sttructured_llm.invoke(\"tell me about hdfcbank\")"
   ]
  },
  {
   "cell_type": "code",
   "execution_count": null,
   "id": "7b75615a",
   "metadata": {},
   "outputs": [],
   "source": []
  },
  {
   "cell_type": "code",
   "execution_count": 35,
   "metadata": {},
   "outputs": [
    {
     "data": {
      "text/plain": [
       "{'headquater': 'Mumbai', 'marketCap': 1000000.0, 'name': 'TCS'}"
      ]
     },
     "execution_count": 35,
     "metadata": {},
     "output_type": "execute_result"
    }
   ],
   "source": [
    "#another method\n",
    "\n",
    "from typing_extensions import Annotated, TypedDict\n",
    "from typing import Optional\n",
    "\n",
    "class Stocks(TypedDict): \n",
    "    \"\"\"stocks to analyse\"\"\"\n",
    "    name:Annotated[str, ..., \"name of the stocks as listed in nse (for example if user searchers sbin bank the stocks listed name is SBIN)\"]\n",
    "    marketCap:Annotated[int,...,\"market capitalzation of the stock\"]\n",
    "    headquater:Annotated[str, ..., \"headqauter of the comapny\"]\n",
    "\n",
    "structured_llm= llm.with_structured_output(Stocks)\n",
    "structured_llm.invoke(\"tata consultancy service\")\n"
   ]
  },
  {
   "cell_type": "code",
   "execution_count": null,
   "id": "ae9fc091",
   "metadata": {},
   "outputs": [
    {
     "name": "stderr",
     "output_type": "stream",
     "text": [
      "C:\\Users\\User\\AppData\\Local\\Temp\\ipykernel_10516\\4056018353.py:53: FutureWarning: YF.download() has changed argument auto_adjust default to True\n",
      "  data = yf.download(ticker, start=\"2023-01-01\", end=\"2023-08-25\", interval=\"1d\")\n",
      "[*********************100%***********************]  1 of 1 completed\n"
     ]
    },
    {
     "ename": "ValueError",
     "evalue": "The truth value of a Series is ambiguous. Use a.empty, a.bool(), a.item(), a.any() or a.all().",
     "output_type": "error",
     "traceback": [
      "\u001b[31m---------------------------------------------------------------------------\u001b[39m",
      "\u001b[31mValueError\u001b[39m                                Traceback (most recent call last)",
      "\u001b[32m~\\AppData\\Local\\Temp\\ipykernel_10516\\4056018353.py\u001b[39m in \u001b[36m?\u001b[39m\u001b[34m()\u001b[39m\n\u001b[32m    122\u001b[39m     (\u001b[33m\"regressor\"\u001b[39m, LinearRegression())\n\u001b[32m    123\u001b[39m ])\n\u001b[32m    124\u001b[39m \n\u001b[32m    125\u001b[39m \u001b[38;5;66;03m# Train the model\u001b[39;00m\n\u001b[32m--> \u001b[39m\u001b[32m126\u001b[39m model.fit(X, y)\n\u001b[32m    127\u001b[39m \n\u001b[32m    128\u001b[39m \u001b[38;5;66;03m# ---------------- Step 5: Extract Learned Weights ----------------\u001b[39;00m\n\u001b[32m    129\u001b[39m \u001b[38;5;66;03m# For a linear regression model, the coefficients represent the impact weight of each feature.\u001b[39;00m\n",
      "\u001b[32me:\\AI_AGENTS\\LANGGRAPH_TUTORIAL101\\venv\\Lib\\site-packages\\sklearn\\base.py\u001b[39m in \u001b[36m?\u001b[39m\u001b[34m(estimator, *args, **kwargs)\u001b[39m\n\u001b[32m   1361\u001b[39m                 skip_parameter_validation=(\n\u001b[32m   1362\u001b[39m                     prefer_skip_nested_validation \u001b[38;5;28;01mor\u001b[39;00m global_skip_validation\n\u001b[32m   1363\u001b[39m                 )\n\u001b[32m   1364\u001b[39m             ):\n\u001b[32m-> \u001b[39m\u001b[32m1365\u001b[39m                 \u001b[38;5;28;01mreturn\u001b[39;00m fit_method(estimator, *args, **kwargs)\n",
      "\u001b[32me:\\AI_AGENTS\\LANGGRAPH_TUTORIAL101\\venv\\Lib\\site-packages\\sklearn\\pipeline.py\u001b[39m in \u001b[36m?\u001b[39m\u001b[34m(self, X, y, **params)\u001b[39m\n\u001b[32m    659\u001b[39m                     step_idx=len(self) - \u001b[32m1\u001b[39m,\n\u001b[32m    660\u001b[39m                     step_params=routed_params[self.steps[-\u001b[32m1\u001b[39m][\u001b[32m0\u001b[39m]],\n\u001b[32m    661\u001b[39m                     all_params=params,\n\u001b[32m    662\u001b[39m                 )\n\u001b[32m--> \u001b[39m\u001b[32m663\u001b[39m                 self._final_estimator.fit(Xt, y, **last_step_params[\u001b[33m\"fit\"\u001b[39m])\n\u001b[32m    664\u001b[39m \n\u001b[32m    665\u001b[39m         \u001b[38;5;28;01mreturn\u001b[39;00m self\n",
      "\u001b[32me:\\AI_AGENTS\\LANGGRAPH_TUTORIAL101\\venv\\Lib\\site-packages\\sklearn\\base.py\u001b[39m in \u001b[36m?\u001b[39m\u001b[34m(estimator, *args, **kwargs)\u001b[39m\n\u001b[32m   1361\u001b[39m                 skip_parameter_validation=(\n\u001b[32m   1362\u001b[39m                     prefer_skip_nested_validation \u001b[38;5;28;01mor\u001b[39;00m global_skip_validation\n\u001b[32m   1363\u001b[39m                 )\n\u001b[32m   1364\u001b[39m             ):\n\u001b[32m-> \u001b[39m\u001b[32m1365\u001b[39m                 \u001b[38;5;28;01mreturn\u001b[39;00m fit_method(estimator, *args, **kwargs)\n",
      "\u001b[32me:\\AI_AGENTS\\LANGGRAPH_TUTORIAL101\\venv\\Lib\\site-packages\\sklearn\\linear_model\\_base.py\u001b[39m in \u001b[36m?\u001b[39m\u001b[34m(self, X, y, sample_weight)\u001b[39m\n\u001b[32m    614\u001b[39m         n_jobs_ = self.n_jobs\n\u001b[32m    615\u001b[39m \n\u001b[32m    616\u001b[39m         accept_sparse = \u001b[38;5;28;01mFalse\u001b[39;00m \u001b[38;5;28;01mif\u001b[39;00m self.positive \u001b[38;5;28;01melse\u001b[39;00m [\u001b[33m\"csr\"\u001b[39m, \u001b[33m\"csc\"\u001b[39m, \u001b[33m\"coo\"\u001b[39m]\n\u001b[32m    617\u001b[39m \n\u001b[32m--> \u001b[39m\u001b[32m618\u001b[39m         X, y = validate_data(\n\u001b[32m    619\u001b[39m             self,\n\u001b[32m    620\u001b[39m             X,\n\u001b[32m    621\u001b[39m             y,\n",
      "\u001b[32me:\\AI_AGENTS\\LANGGRAPH_TUTORIAL101\\venv\\Lib\\site-packages\\sklearn\\utils\\validation.py\u001b[39m in \u001b[36m?\u001b[39m\u001b[34m(_estimator, X, y, reset, validate_separately, skip_check_array, **check_params)\u001b[39m\n\u001b[32m   2967\u001b[39m             \u001b[38;5;28;01mif\u001b[39;00m \u001b[33m\"estimator\"\u001b[39m \u001b[38;5;28;01mnot\u001b[39;00m \u001b[38;5;28;01min\u001b[39;00m check_y_params:\n\u001b[32m   2968\u001b[39m                 check_y_params = {**default_check_params, **check_y_params}\n\u001b[32m   2969\u001b[39m             y = check_array(y, input_name=\u001b[33m\"y\"\u001b[39m, **check_y_params)\n\u001b[32m   2970\u001b[39m         \u001b[38;5;28;01melse\u001b[39;00m:\n\u001b[32m-> \u001b[39m\u001b[32m2971\u001b[39m             X, y = check_X_y(X, y, **check_params)\n\u001b[32m   2972\u001b[39m         out = X, y\n\u001b[32m   2973\u001b[39m \n\u001b[32m   2974\u001b[39m     \u001b[38;5;28;01mif\u001b[39;00m \u001b[38;5;28;01mnot\u001b[39;00m no_val_X \u001b[38;5;28;01mand\u001b[39;00m check_params.get(\u001b[33m\"ensure_2d\"\u001b[39m, \u001b[38;5;28;01mTrue\u001b[39;00m):\n",
      "\u001b[32me:\\AI_AGENTS\\LANGGRAPH_TUTORIAL101\\venv\\Lib\\site-packages\\sklearn\\utils\\validation.py\u001b[39m in \u001b[36m?\u001b[39m\u001b[34m(X, y, accept_sparse, accept_large_sparse, dtype, order, copy, force_writeable, force_all_finite, ensure_all_finite, ensure_2d, allow_nd, multi_output, ensure_min_samples, ensure_min_features, y_numeric, estimator)\u001b[39m\n\u001b[32m   1381\u001b[39m         estimator=estimator,\n\u001b[32m   1382\u001b[39m         input_name=\u001b[33m\"X\"\u001b[39m,\n\u001b[32m   1383\u001b[39m     )\n\u001b[32m   1384\u001b[39m \n\u001b[32m-> \u001b[39m\u001b[32m1385\u001b[39m     y = _check_y(y, multi_output=multi_output, y_numeric=y_numeric, estimator=estimator)\n\u001b[32m   1386\u001b[39m \n\u001b[32m   1387\u001b[39m     check_consistent_length(X, y)\n\u001b[32m   1388\u001b[39m \n",
      "\u001b[32me:\\AI_AGENTS\\LANGGRAPH_TUTORIAL101\\venv\\Lib\\site-packages\\sklearn\\utils\\validation.py\u001b[39m in \u001b[36m?\u001b[39m\u001b[34m(y, multi_output, y_numeric, estimator)\u001b[39m\n\u001b[32m   1392\u001b[39m \u001b[38;5;28;01mdef\u001b[39;00m _check_y(y, multi_output=\u001b[38;5;28;01mFalse\u001b[39;00m, y_numeric=\u001b[38;5;28;01mFalse\u001b[39;00m, estimator=\u001b[38;5;28;01mNone\u001b[39;00m):\n\u001b[32m   1393\u001b[39m     \u001b[33m\"\"\"Isolated part of check_X_y dedicated to y validation\"\"\"\u001b[39m\n\u001b[32m   1394\u001b[39m     \u001b[38;5;28;01mif\u001b[39;00m multi_output:\n\u001b[32m-> \u001b[39m\u001b[32m1395\u001b[39m         y = check_array(\n\u001b[32m   1396\u001b[39m             y,\n\u001b[32m   1397\u001b[39m             accept_sparse=\u001b[33m\"csr\"\u001b[39m,\n\u001b[32m   1398\u001b[39m             ensure_all_finite=\u001b[38;5;28;01mTrue\u001b[39;00m,\n",
      "\u001b[32me:\\AI_AGENTS\\LANGGRAPH_TUTORIAL101\\venv\\Lib\\site-packages\\sklearn\\utils\\validation.py\u001b[39m in \u001b[36m?\u001b[39m\u001b[34m(array, accept_sparse, accept_large_sparse, dtype, order, copy, force_writeable, force_all_finite, ensure_all_finite, ensure_non_negative, ensure_2d, allow_nd, ensure_min_samples, ensure_min_features, estimator, input_name)\u001b[39m\n\u001b[32m   1101\u001b[39m                 f\" while dim <= 2 is required{context}.\"\n\u001b[32m   1102\u001b[39m             )\n\u001b[32m   1103\u001b[39m \n\u001b[32m   1104\u001b[39m         \u001b[38;5;28;01mif\u001b[39;00m ensure_all_finite:\n\u001b[32m-> \u001b[39m\u001b[32m1105\u001b[39m             _assert_all_finite(\n\u001b[32m   1106\u001b[39m                 array,\n\u001b[32m   1107\u001b[39m                 input_name=input_name,\n\u001b[32m   1108\u001b[39m                 estimator_name=estimator_name,\n",
      "\u001b[32me:\\AI_AGENTS\\LANGGRAPH_TUTORIAL101\\venv\\Lib\\site-packages\\sklearn\\utils\\validation.py\u001b[39m in \u001b[36m?\u001b[39m\u001b[34m(X, allow_nan, msg_dtype, estimator_name, input_name)\u001b[39m\n\u001b[32m    100\u001b[39m     X = xp.asarray(X)\n\u001b[32m    101\u001b[39m \n\u001b[32m    102\u001b[39m     \u001b[38;5;66;03m# for object dtype data, we only check for NaNs (GH-13254)\u001b[39;00m\n\u001b[32m    103\u001b[39m     \u001b[38;5;28;01mif\u001b[39;00m \u001b[38;5;28;01mnot\u001b[39;00m is_array_api \u001b[38;5;28;01mand\u001b[39;00m X.dtype == np.dtype(\u001b[33m\"object\"\u001b[39m) \u001b[38;5;28;01mand\u001b[39;00m \u001b[38;5;28;01mnot\u001b[39;00m allow_nan:\n\u001b[32m--> \u001b[39m\u001b[32m104\u001b[39m         \u001b[38;5;28;01mif\u001b[39;00m _object_dtype_isnan(X).any():\n\u001b[32m    105\u001b[39m             \u001b[38;5;28;01mraise\u001b[39;00m ValueError(\u001b[33m\"Input contains NaN\"\u001b[39m)\n\u001b[32m    106\u001b[39m \n\u001b[32m    107\u001b[39m     \u001b[38;5;66;03m# We need only consider float arrays, hence can early return for all else.\u001b[39;00m\n",
      "\u001b[32me:\\AI_AGENTS\\LANGGRAPH_TUTORIAL101\\venv\\Lib\\site-packages\\sklearn\\utils\\fixes.py\u001b[39m in \u001b[36m?\u001b[39m\u001b[34m(X)\u001b[39m\n\u001b[32m     54\u001b[39m \u001b[38;5;28;01mdef\u001b[39;00m _object_dtype_isnan(X):\n\u001b[32m---> \u001b[39m\u001b[32m55\u001b[39m     \u001b[38;5;28;01mreturn\u001b[39;00m X != X\n",
      "\u001b[32me:\\AI_AGENTS\\LANGGRAPH_TUTORIAL101\\venv\\Lib\\site-packages\\pandas\\core\\generic.py\u001b[39m in \u001b[36m?\u001b[39m\u001b[34m(self)\u001b[39m\n\u001b[32m   1575\u001b[39m     @final\n\u001b[32m   1576\u001b[39m     \u001b[38;5;28;01mdef\u001b[39;00m __nonzero__(self) -> NoReturn:\n\u001b[32m-> \u001b[39m\u001b[32m1577\u001b[39m         raise ValueError(\n\u001b[32m   1578\u001b[39m             f\"The truth value of a {type(self).__name__} is ambiguous. \"\n\u001b[32m   1579\u001b[39m             \u001b[33m\"Use a.empty, a.bool(), a.item(), a.any() or a.all().\"\u001b[39m\n\u001b[32m   1580\u001b[39m         )\n",
      "\u001b[31mValueError\u001b[39m: The truth value of a Series is ambiguous. Use a.empty, a.bool(), a.item(), a.any() or a.all()."
     ]
    }
   ],
   "source": []
  },
  {
   "cell_type": "code",
   "execution_count": null,
   "id": "b946c51e",
   "metadata": {},
   "outputs": [],
   "source": []
  },
  {
   "cell_type": "code",
   "execution_count": null,
   "id": "250be3bc",
   "metadata": {},
   "outputs": [],
   "source": []
  }
 ],
 "metadata": {
  "kernelspec": {
   "display_name": "venv",
   "language": "python",
   "name": "python3"
  },
  "language_info": {
   "codemirror_mode": {
    "name": "ipython",
    "version": 3
   },
   "file_extension": ".py",
   "mimetype": "text/x-python",
   "name": "python",
   "nbconvert_exporter": "python",
   "pygments_lexer": "ipython3",
   "version": "3.13.2"
  }
 },
 "nbformat": 4,
 "nbformat_minor": 5
}
