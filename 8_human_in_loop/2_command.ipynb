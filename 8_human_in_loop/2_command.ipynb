{
 "cells": [
  {
   "cell_type": "code",
   "execution_count": 8,
   "id": "879a22f9",
   "metadata": {},
   "outputs": [
    {
     "name": "stdout",
     "output_type": "stream",
     "text": [
      "node a \n",
      "node  b\n",
      "node B\n",
      "{'text': 'gnanabc'}\n"
     ]
    }
   ],
   "source": [
    "from langgraph.graph import StateGraph, START,END\n",
    "from langgraph.types import Command\n",
    "from typing import TypedDict\n",
    "\n",
    "class State(TypedDict):\n",
    "    text:str\n",
    "\n",
    "def node_a(state:State):\n",
    "    print(\"node a \")\n",
    "    return Command(\n",
    "        goto=\"node_b\",\n",
    "        update={\n",
    "            \"text\":state[\"text\"]+ \"a\"\n",
    "        }\n",
    "    )\n",
    "def node_b(state: State):\n",
    "    print(\"node  b\")\n",
    "    return Command(\n",
    "        goto=\"node_c\",update={\n",
    "            \"text\":state[\"text\"] + \"b\"\n",
    "        }\n",
    "    )\n",
    "\n",
    "def node_c(state: State):\n",
    "    print(\"node B\")\n",
    "    return Command(\n",
    "        goto=END,\n",
    "        update= {\n",
    "            \"text\": state[\"text\"]+\"c\"\n",
    "\n",
    "        }\n",
    "    )\n",
    "\n",
    "graph = StateGraph(State)\n",
    "graph.add_node(\"node_a\", node_a)\n",
    "graph.add_node(\"node_b\", node_b)\n",
    "graph.add_node(\"node_c\", node_c)\n",
    "\n",
    "graph.set_entry_point(\"node_a\")\n",
    "app = graph.compile()\n",
    "res = app.invoke({\n",
    "    \"text\":\"gnan\"\n",
    "})\n",
    "\n",
    "print(res)"
   ]
  },
  {
   "cell_type": "code",
   "execution_count": null,
   "id": "3f0c81cf",
   "metadata": {},
   "outputs": [],
   "source": []
  }
 ],
 "metadata": {
  "kernelspec": {
   "display_name": "venv",
   "language": "python",
   "name": "python3"
  },
  "language_info": {
   "codemirror_mode": {
    "name": "ipython",
    "version": 3
   },
   "file_extension": ".py",
   "mimetype": "text/x-python",
   "name": "python",
   "nbconvert_exporter": "python",
   "pygments_lexer": "ipython3",
   "version": "3.13.2"
  }
 },
 "nbformat": 4,
 "nbformat_minor": 5
}
