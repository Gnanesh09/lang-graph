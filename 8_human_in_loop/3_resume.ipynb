{
 "cells": [
  {
   "cell_type": "code",
   "execution_count": 7,
   "id": "bb587a26",
   "metadata": {},
   "outputs": [
    {
     "name": "stdout",
     "output_type": "stream",
     "text": [
      "node a\n",
      "node b\n"
     ]
    },
    {
     "data": {
      "text/plain": [
       "[{'node_a': {'text': 'a'}},\n",
       " {'__interrupt__': (Interrupt(value='do u want to go tp c or d: ', id='3b0f4feca64d65edf0c6fe51ff0c7890'),)}]"
      ]
     },
     "execution_count": 7,
     "metadata": {},
     "output_type": "execute_result"
    }
   ],
   "source": [
    "from langgraph.graph import StateGraph, START, END\n",
    "from langgraph.types import Command,interrupt\n",
    "from typing import  TypedDict\n",
    "from langgraph.checkpoint.memory import MemorySaver\n",
    "\n",
    "\n",
    "memory = MemorySaver()\n",
    "class State(TypedDict):\n",
    "    text: str\n",
    "\n",
    "def node_a(state:State):\n",
    "    print(\"node a\")\n",
    "    return Command(\n",
    "        goto=\"node_b\",\n",
    "        update={\n",
    "            \"text\": state[\"text\"]+\"a\"\n",
    "        }\n",
    "    )\n",
    "def node_b(state:State):\n",
    "    print(\"node b\")\n",
    "    human_res = interrupt(\"do u want to go tp c or d: \")\n",
    "    print(f\"human response: {human_res}\")\n",
    "    if human_res==\"c\":\n",
    "        return Command(\n",
    "            goto=\"node_c\",\n",
    "            update={\n",
    "                \"text\": state[\"text\"]+\"b\"\n",
    "            }\n",
    "        )\n",
    "    elif human_res==\"d\":\n",
    "        return Command(\n",
    "            goto=\"node_d\",\n",
    "            update={\n",
    "                \"text\": state[\"text\"]+\"b\"\n",
    "            }\n",
    "        )\n",
    "def node_c(state: State):\n",
    "    print(\"node_c\")\n",
    "    return Command(\n",
    "        goto=END,\n",
    "        update={\n",
    "            \"text\": state[\"text\"]+\"c\"\n",
    "        }\n",
    "    )\n",
    "def node_d(state: State):\n",
    "    print(\"node_d\")\n",
    "    return Command(\n",
    "        goto=END,\n",
    "        update={\n",
    "            \"text\": state[\"text\"]+\"d\"\n",
    "        }\n",
    "    )\n",
    "\n",
    "graph = StateGraph(State)\n",
    "graph.add_node(\"node_a\", node_a)\n",
    "graph.add_node(\"node_b\", node_b)\n",
    "graph.add_node(\"node_c\", node_c)\n",
    "graph.add_node(\"node_d\", node_d)\n",
    "graph.set_entry_point(\"node_a\")\n",
    "\n",
    "app = graph.compile(checkpointer=memory)\n",
    "\n",
    "config  = {\"configurable\": {\"thread_id\":25}}\n",
    "\n",
    "initial_state = {\n",
    "    \"text\":\"\"\n",
    "\n",
    "}\n",
    "first_res = app.invoke(initial_state, config, stream_mode=\"updates\")\n",
    "first_res\n"
   ]
  },
  {
   "cell_type": "code",
   "execution_count": 8,
   "id": "f0a628f7",
   "metadata": {},
   "outputs": [
    {
     "name": "stdout",
     "output_type": "stream",
     "text": [
      "('node_b',)\n"
     ]
    }
   ],
   "source": [
    "print(app.get_state(config).next)"
   ]
  },
  {
   "cell_type": "code",
   "execution_count": 9,
   "id": "69886bdb",
   "metadata": {},
   "outputs": [
    {
     "name": "stdout",
     "output_type": "stream",
     "text": [
      "node b\n",
      "human response: c\n",
      "node_c\n"
     ]
    },
    {
     "data": {
      "text/plain": [
       "[{'node_b': {'text': 'ab'}}, {'node_c': {'text': 'abc'}}]"
      ]
     },
     "execution_count": 9,
     "metadata": {},
     "output_type": "execute_result"
    }
   ],
   "source": [
    "second_res = app.invoke(Command(resume=\"c\"), config=config, stream_mode=\"updates\")\n",
    "second_res"
   ]
  },
  {
   "cell_type": "code",
   "execution_count": null,
   "id": "3c982664",
   "metadata": {},
   "outputs": [],
   "source": []
  }
 ],
 "metadata": {
  "kernelspec": {
   "display_name": "venv",
   "language": "python",
   "name": "python3"
  },
  "language_info": {
   "codemirror_mode": {
    "name": "ipython",
    "version": 3
   },
   "file_extension": ".py",
   "mimetype": "text/x-python",
   "name": "python",
   "nbconvert_exporter": "python",
   "pygments_lexer": "ipython3",
   "version": "3.13.2"
  }
 },
 "nbformat": 4,
 "nbformat_minor": 5
}
